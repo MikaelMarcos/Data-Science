{
 "cells": [
  {
   "cell_type": "code",
   "execution_count": 7,
   "metadata": {},
   "outputs": [
    {
     "data": {
      "text/html": [
       "<div>\n",
       "<style scoped>\n",
       "    .dataframe tbody tr th:only-of-type {\n",
       "        vertical-align: middle;\n",
       "    }\n",
       "\n",
       "    .dataframe tbody tr th {\n",
       "        vertical-align: top;\n",
       "    }\n",
       "\n",
       "    .dataframe thead th {\n",
       "        text-align: right;\n",
       "    }\n",
       "</style>\n",
       "<table border=\"1\" class=\"dataframe\">\n",
       "  <thead>\n",
       "    <tr style=\"text-align: right;\">\n",
       "      <th></th>\n",
       "      <th>#</th>\n",
       "      <th>Palavra</th>\n",
       "      <th>Pronúncia</th>\n",
       "      <th>Tradução</th>\n",
       "      <th>Contexto</th>\n",
       "    </tr>\n",
       "  </thead>\n",
       "  <tbody>\n",
       "    <tr>\n",
       "      <th>0</th>\n",
       "      <td>1</td>\n",
       "      <td>the</td>\n",
       "      <td>dã</td>\n",
       "      <td>o, a, os, as</td>\n",
       "      <td>The book on the table belongs to me.</td>\n",
       "    </tr>\n",
       "    <tr>\n",
       "      <th>1</th>\n",
       "      <td>2</td>\n",
       "      <td>to be</td>\n",
       "      <td>tu bi</td>\n",
       "      <td>ser, estar</td>\n",
       "      <td>She wants to be a doctor when she grows up.</td>\n",
       "    </tr>\n",
       "    <tr>\n",
       "      <th>2</th>\n",
       "      <td>3</td>\n",
       "      <td>and</td>\n",
       "      <td>endi</td>\n",
       "      <td>e</td>\n",
       "      <td>He likes pizza and ice cream.</td>\n",
       "    </tr>\n",
       "    <tr>\n",
       "      <th>3</th>\n",
       "      <td>4</td>\n",
       "      <td>of</td>\n",
       "      <td>óv</td>\n",
       "      <td>de</td>\n",
       "      <td>The cover of the magazine is very colorful.</td>\n",
       "    </tr>\n",
       "    <tr>\n",
       "      <th>4</th>\n",
       "      <td>5</td>\n",
       "      <td>a</td>\n",
       "      <td>a</td>\n",
       "      <td>um, uma</td>\n",
       "      <td>She adopted a kitten from the shelter.</td>\n",
       "    </tr>\n",
       "  </tbody>\n",
       "</table>\n",
       "</div>"
      ],
      "text/plain": [
       "   # Palavra Pronúncia      Tradução  \\\n",
       "0  1     the        dã  o, a, os, as   \n",
       "1  2   to be     tu bi    ser, estar   \n",
       "2  3     and      endi             e   \n",
       "3  4      of        óv            de   \n",
       "4  5       a         a       um, uma   \n",
       "\n",
       "                                      Contexto  \n",
       "0         The book on the table belongs to me.  \n",
       "1  She wants to be a doctor when she grows up.  \n",
       "2                He likes pizza and ice cream.  \n",
       "3  The cover of the magazine is very colorful.  \n",
       "4       She adopted a kitten from the shelter.  "
      ]
     },
     "execution_count": 7,
     "metadata": {},
     "output_type": "execute_result"
    }
   ],
   "source": [
    "import pandas as pd\n",
    "list = pd.read_csv(\"Palavras em inglês - Sheet1.csv\")\n",
    "# Ver as 5 Palavras mais usadas no inglês\n",
    "list.head()"
   ]
  }
 ],
 "metadata": {
  "kernelspec": {
   "display_name": "Python 3",
   "language": "python",
   "name": "python3"
  },
  "language_info": {
   "codemirror_mode": {
    "name": "ipython",
    "version": 3
   },
   "file_extension": ".py",
   "mimetype": "text/x-python",
   "name": "python",
   "nbconvert_exporter": "python",
   "pygments_lexer": "ipython3",
   "version": "3.12.6"
  }
 },
 "nbformat": 4,
 "nbformat_minor": 2
}
